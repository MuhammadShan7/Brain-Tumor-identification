{
  "nbformat": 4,
  "nbformat_minor": 0,
  "metadata": {
    "colab": {
      "provenance": []
    },
    "kernelspec": {
      "name": "python3",
      "display_name": "Python 3"
    },
    "language_info": {
      "name": "python"
    },
    "gpuClass": "standard",
    "accelerator": "GPU"
  },
  "cells": [
    {
      "cell_type": "code",
      "execution_count": 1,
      "metadata": {
        "id": "jl8G8ICENobc"
      },
      "outputs": [],
      "source": [
        "#to prevent gpu to collapse it allow using at 50% of total gpu\n",
        "from tensorflow.compat.v1 import ConfigProto\n",
        "from tensorflow.compat.v1 import InteractiveSession\n",
        "\n",
        "config = ConfigProto()\n",
        "config.gpu_options.per_process_gpu_memory_fraction = 0.5\n",
        "config.gpu_options.allow_growth = True\n",
        "session = InteractiveSession(config=config)"
      ]
    },
    {
      "cell_type": "code",
      "source": [
        "# importing usefull transfer learning libraries\n",
        "\n",
        "from tensorflow.keras.layers import Input, Lambda, Dense, Flatten\n",
        "from tensorflow.keras.models import Model\n",
        "from keras.applications.vgg16 import VGG16"
      ],
      "metadata": {
        "id": "iMqR0JzncZKz"
      },
      "execution_count": 2,
      "outputs": []
    },
    {
      "cell_type": "code",
      "source": [
        "from tensorflow.keras.applications.vgg16 import preprocess_input\n",
        "from tensorflow.keras.preprocessing import image\n",
        "from tensorflow.keras.preprocessing.image import ImageDataGenerator,load_img\n",
        "from tensorflow.keras.models import Sequential\n",
        "import tensorflow as tf\n",
        "import numpy as np\n",
        "import cv2\n",
        "from glob import glob\n",
        "from PIL import Image\n",
        "import matplotlib.pyplot as plt"
      ],
      "metadata": {
        "id": "kvzf5SfUBsE5"
      },
      "execution_count": 3,
      "outputs": []
    },
    {
      "cell_type": "code",
      "source": [
        "from google.colab import drive\n",
        "drive.mount('/content/drive')"
      ],
      "metadata": {
        "colab": {
          "base_uri": "https://localhost:8080/"
        },
        "id": "0lezC8Cn1M8O",
        "outputId": "4ea364f4-3396-45ad-e5e3-ed3c2376d2de"
      },
      "execution_count": 4,
      "outputs": [
        {
          "output_type": "stream",
          "name": "stdout",
          "text": [
            "Mounted at /content/drive\n"
          ]
        }
      ]
    },
    {
      "cell_type": "code",
      "source": [
        "# re-size all the images to this\n",
        "image_size = [224, 224]\n",
        "\n",
        "train_path = '/content/drive/MyDrive/brain_tumors/new_brain_data/Training'\n",
        "valid_path = '/content/drive/MyDrive/brain_tumors/new_brain_data/Testing'"
      ],
      "metadata": {
        "id": "UT_ypQpEDTNB"
      },
      "execution_count": 23,
      "outputs": []
    },
    {
      "cell_type": "code",
      "source": [
        "vgg= VGG16(input_shape=image_size + [3], weights='imagenet', include_top=False)"
      ],
      "metadata": {
        "id": "CoyJf85SOtGW"
      },
      "execution_count": 25,
      "outputs": []
    },
    {
      "cell_type": "code",
      "source": [
        "# don't train existing weights\n",
        "for layer in vgg.layers:\n",
        "    layer.trainable = False"
      ],
      "metadata": {
        "id": "vk6h3agae2Lm"
      },
      "execution_count": 26,
      "outputs": []
    },
    {
      "cell_type": "code",
      "source": [
        "folders = glob('/content/drive/MyDrive/brain_tumors/new_brain_data/*')"
      ],
      "metadata": {
        "id": "29-dKG0kALpv"
      },
      "execution_count": 27,
      "outputs": []
    },
    {
      "cell_type": "code",
      "source": [
        "# adding input and output layers\n",
        "x = Flatten()(vgg.output)\n"
      ],
      "metadata": {
        "id": "51sByPW4f8oE"
      },
      "execution_count": 28,
      "outputs": []
    },
    {
      "cell_type": "code",
      "source": [
        "#initializing the inner layers by using sigmoid function\n",
        "prediction = Dense(4, activation='softmax')(x)\n",
        "\n",
        "# create a model object\n",
        "model = Model(inputs=vgg.input, outputs=prediction)"
      ],
      "metadata": {
        "id": "etkRQLYOHUnI"
      },
      "execution_count": 29,
      "outputs": []
    },
    {
      "cell_type": "code",
      "source": [
        "# view the structure of the model\n",
        "model.summary()"
      ],
      "metadata": {
        "id": "ofYm07qlgW-q",
        "colab": {
          "base_uri": "https://localhost:8080/"
        },
        "outputId": "45fa4cce-646d-4fb8-b291-d74c37bd02c6"
      },
      "execution_count": 30,
      "outputs": [
        {
          "output_type": "stream",
          "name": "stdout",
          "text": [
            "Model: \"model_1\"\n",
            "_________________________________________________________________\n",
            " Layer (type)                Output Shape              Param #   \n",
            "=================================================================\n",
            " input_3 (InputLayer)        [(None, 224, 224, 3)]     0         \n",
            "                                                                 \n",
            " block1_conv1 (Conv2D)       (None, 224, 224, 64)      1792      \n",
            "                                                                 \n",
            " block1_conv2 (Conv2D)       (None, 224, 224, 64)      36928     \n",
            "                                                                 \n",
            " block1_pool (MaxPooling2D)  (None, 112, 112, 64)      0         \n",
            "                                                                 \n",
            " block2_conv1 (Conv2D)       (None, 112, 112, 128)     73856     \n",
            "                                                                 \n",
            " block2_conv2 (Conv2D)       (None, 112, 112, 128)     147584    \n",
            "                                                                 \n",
            " block2_pool (MaxPooling2D)  (None, 56, 56, 128)       0         \n",
            "                                                                 \n",
            " block3_conv1 (Conv2D)       (None, 56, 56, 256)       295168    \n",
            "                                                                 \n",
            " block3_conv2 (Conv2D)       (None, 56, 56, 256)       590080    \n",
            "                                                                 \n",
            " block3_conv3 (Conv2D)       (None, 56, 56, 256)       590080    \n",
            "                                                                 \n",
            " block3_pool (MaxPooling2D)  (None, 28, 28, 256)       0         \n",
            "                                                                 \n",
            " block4_conv1 (Conv2D)       (None, 28, 28, 512)       1180160   \n",
            "                                                                 \n",
            " block4_conv2 (Conv2D)       (None, 28, 28, 512)       2359808   \n",
            "                                                                 \n",
            " block4_conv3 (Conv2D)       (None, 28, 28, 512)       2359808   \n",
            "                                                                 \n",
            " block4_pool (MaxPooling2D)  (None, 14, 14, 512)       0         \n",
            "                                                                 \n",
            " block5_conv1 (Conv2D)       (None, 14, 14, 512)       2359808   \n",
            "                                                                 \n",
            " block5_conv2 (Conv2D)       (None, 14, 14, 512)       2359808   \n",
            "                                                                 \n",
            " block5_conv3 (Conv2D)       (None, 14, 14, 512)       2359808   \n",
            "                                                                 \n",
            " block5_pool (MaxPooling2D)  (None, 7, 7, 512)         0         \n",
            "                                                                 \n",
            " flatten_1 (Flatten)         (None, 25088)             0         \n",
            "                                                                 \n",
            " dense_1 (Dense)             (None, 4)                 100356    \n",
            "                                                                 \n",
            "=================================================================\n",
            "Total params: 14,815,044\n",
            "Trainable params: 100,356\n",
            "Non-trainable params: 14,714,688\n",
            "_________________________________________________________________\n"
          ]
        }
      ]
    },
    {
      "cell_type": "code",
      "source": [
        "# using this to tackle with loss cost and optimizer input weights by comparing the prediction and the loss function\n",
        "model.compile(\n",
        "  loss='categorical_crossentropy',\n",
        "  optimizer='adam',\n",
        "  #matrix for accuracy\n",
        "  metrics=['accuracy']\n",
        ")"
      ],
      "metadata": {
        "id": "1qpsgjCxh1ed"
      },
      "execution_count": 31,
      "outputs": []
    },
    {
      "cell_type": "code",
      "source": [
        "# Use the Image Data Generator to import the images from the dataset\n",
        "from tensorflow.keras.preprocessing.image import ImageDataGenerator\n",
        "\n",
        "train_datagen = ImageDataGenerator(rescale = 1./255,\n",
        "                                   shear_range = 0.2,\n",
        "                                   zoom_range = 0.2,\n",
        "                                   horizontal_flip = True)"
      ],
      "metadata": {
        "id": "rgp4nx_jDnpw"
      },
      "execution_count": 32,
      "outputs": []
    },
    {
      "cell_type": "code",
      "source": [
        "#by using the image generator for importing images\n",
        "from tensorflow.keras.preprocessing.image import ImageDataGenerator\n",
        "\n",
        "train_dg = ImageDataGenerator(rescale = 1./255, \n",
        "                              shear_range =0.2,\n",
        "                              zoom_range = 0.2,\n",
        "                              horizontal_flip = True\n",
        "                              )\n",
        "test_dg = ImageDataGenerator(rescale = 1./255)"
      ],
      "metadata": {
        "id": "jYvwYxHt6OsD"
      },
      "execution_count": 33,
      "outputs": []
    },
    {
      "cell_type": "code",
      "source": [
        "training_set = train_datagen.flow_from_directory('/content/drive/MyDrive/Dataset/brain_tumors/new_brain_data/Training',\n",
        "                                                 target_size = (224, 224),\n",
        "                                                 batch_size = 32,\n",
        "                                                 class_mode = 'categorical')"
      ],
      "metadata": {
        "colab": {
          "base_uri": "https://localhost:8080/"
        },
        "id": "dnE4mEfm7gNS",
        "outputId": "2db4eb07-77cd-4338-fce1-7f52d6e3a405"
      },
      "execution_count": 34,
      "outputs": [
        {
          "output_type": "stream",
          "name": "stdout",
          "text": [
            "Found 5712 images belonging to 4 classes.\n"
          ]
        }
      ]
    },
    {
      "cell_type": "code",
      "source": [
        "test_set = test_dg.flow_from_directory('/content/drive/MyDrive/Dataset/brain_tumors/new_brain_data/Testing',\n",
        "                                            target_size = (224, 224),\n",
        "                                            batch_size = 32,\n",
        "                                            class_mode = 'categorical')"
      ],
      "metadata": {
        "colab": {
          "base_uri": "https://localhost:8080/"
        },
        "id": "adRqT2up8L5V",
        "outputId": "dad7f3aa-3c42-4a87-9534-f30503f7a159"
      },
      "execution_count": 35,
      "outputs": [
        {
          "output_type": "stream",
          "name": "stdout",
          "text": [
            "Found 1321 images belonging to 4 classes.\n"
          ]
        }
      ]
    },
    {
      "cell_type": "code",
      "source": [
        "test_set.class_indices"
      ],
      "metadata": {
        "colab": {
          "base_uri": "https://localhost:8080/"
        },
        "id": "naGJet5e2BGV",
        "outputId": "12359d34-e84c-4314-e03d-abf797b8b2e0"
      },
      "execution_count": 36,
      "outputs": [
        {
          "output_type": "execute_result",
          "data": {
            "text/plain": [
              "{'glioma': 0, 'meningioma': 1, 'notumor': 2, 'pituitary': 3}"
            ]
          },
          "metadata": {},
          "execution_count": 36
        }
      ]
    },
    {
      "cell_type": "code",
      "source": [
        "from tensorflow.keras.callbacks import ModelCheckpoint,EarlyStopping\n",
        "checkpoint=ModelCheckpoint('/content/drive/MyDrive/Dataset/brain_tumors/brain.h5',\n",
        "                          mode='auto',\n",
        "                          monitor='val_accuracy',\n",
        "                          save_best_only=True,\n",
        "                          verbose=1\n",
        "                           )\n",
        "earlystop=EarlyStopping(monitor='val_loss',\n",
        "                       min_delta=0,\n",
        "                       patience=4,\n",
        "                       verbose=1,\n",
        "                       restore_best_weights=True\n",
        "                      )\n",
        "callbacks=[checkpoint,earlystop]"
      ],
      "metadata": {
        "id": "MiByZ15VP-8F"
      },
      "execution_count": 37,
      "outputs": []
    },
    {
      "cell_type": "code",
      "source": [
        "#training my model wtih dense last layer and flatting the first layer\n",
        "r = model.fit_generator(\n",
        "  training_set,\n",
        "  validation_data=test_set,\n",
        "  epochs=50,\n",
        "  steps_per_epoch=len(training_set),\n",
        "  callbacks=callbacks,\n",
        "  validation_steps=len(test_set), \n",
        "\n",
        ")"
      ],
      "metadata": {
        "id": "1zDNuLNj9ER6",
        "colab": {
          "base_uri": "https://localhost:8080/"
        },
        "outputId": "791b10a3-715b-43f0-a1ce-ae95aa72a259"
      },
      "execution_count": 38,
      "outputs": [
        {
          "output_type": "stream",
          "name": "stderr",
          "text": [
            "<ipython-input-38-2ed641009753>:2: UserWarning: `Model.fit_generator` is deprecated and will be removed in a future version. Please use `Model.fit`, which supports generators.\n",
            "  r = model.fit_generator(\n"
          ]
        },
        {
          "output_type": "stream",
          "name": "stdout",
          "text": [
            "Epoch 1/50\n",
            "179/179 [==============================] - ETA: 0s - loss: 0.5658 - accuracy: 0.7950\n",
            "Epoch 1: val_accuracy improved from -inf to 0.83876, saving model to /content/drive/MyDrive/Dataset/brain_tumors/brain.h5\n",
            "179/179 [==============================] - 100s 550ms/step - loss: 0.5658 - accuracy: 0.7950 - val_loss: 0.4820 - val_accuracy: 0.8388\n",
            "Epoch 2/50\n",
            "179/179 [==============================] - ETA: 0s - loss: 0.2829 - accuracy: 0.8960\n",
            "Epoch 2: val_accuracy improved from 0.83876 to 0.87964, saving model to /content/drive/MyDrive/Dataset/brain_tumors/brain.h5\n",
            "179/179 [==============================] - 94s 523ms/step - loss: 0.2829 - accuracy: 0.8960 - val_loss: 0.3438 - val_accuracy: 0.8796\n",
            "Epoch 3/50\n",
            "179/179 [==============================] - ETA: 0s - loss: 0.2226 - accuracy: 0.9193\n",
            "Epoch 3: val_accuracy improved from 0.87964 to 0.90310, saving model to /content/drive/MyDrive/Dataset/brain_tumors/brain.h5\n",
            "179/179 [==============================] - 92s 511ms/step - loss: 0.2226 - accuracy: 0.9193 - val_loss: 0.2414 - val_accuracy: 0.9031\n",
            "Epoch 4/50\n",
            "179/179 [==============================] - ETA: 0s - loss: 0.1855 - accuracy: 0.9336\n",
            "Epoch 4: val_accuracy improved from 0.90310 to 0.91597, saving model to /content/drive/MyDrive/Dataset/brain_tumors/brain.h5\n",
            "179/179 [==============================] - 93s 517ms/step - loss: 0.1855 - accuracy: 0.9336 - val_loss: 0.2249 - val_accuracy: 0.9160\n",
            "Epoch 5/50\n",
            "179/179 [==============================] - ETA: 0s - loss: 0.1706 - accuracy: 0.9384\n",
            "Epoch 5: val_accuracy did not improve from 0.91597\n",
            "179/179 [==============================] - 93s 516ms/step - loss: 0.1706 - accuracy: 0.9384 - val_loss: 0.2526 - val_accuracy: 0.9061\n",
            "Epoch 6/50\n",
            "179/179 [==============================] - ETA: 0s - loss: 0.1438 - accuracy: 0.9487\n",
            "Epoch 6: val_accuracy did not improve from 0.91597\n",
            "179/179 [==============================] - 91s 509ms/step - loss: 0.1438 - accuracy: 0.9487 - val_loss: 0.2521 - val_accuracy: 0.9122\n",
            "Epoch 7/50\n",
            "179/179 [==============================] - ETA: 0s - loss: 0.1232 - accuracy: 0.9566\n",
            "Epoch 7: val_accuracy improved from 0.91597 to 0.94398, saving model to /content/drive/MyDrive/Dataset/brain_tumors/brain.h5\n",
            "179/179 [==============================] - 92s 515ms/step - loss: 0.1232 - accuracy: 0.9566 - val_loss: 0.1513 - val_accuracy: 0.9440\n",
            "Epoch 8/50\n",
            "179/179 [==============================] - ETA: 0s - loss: 0.1185 - accuracy: 0.9571\n",
            "Epoch 8: val_accuracy improved from 0.94398 to 0.95307, saving model to /content/drive/MyDrive/Dataset/brain_tumors/brain.h5\n",
            "179/179 [==============================] - 92s 512ms/step - loss: 0.1185 - accuracy: 0.9571 - val_loss: 0.1328 - val_accuracy: 0.9531\n",
            "Epoch 9/50\n",
            "179/179 [==============================] - ETA: 0s - loss: 0.1185 - accuracy: 0.9533\n",
            "Epoch 9: val_accuracy did not improve from 0.95307\n",
            "179/179 [==============================] - 96s 538ms/step - loss: 0.1185 - accuracy: 0.9533 - val_loss: 0.2813 - val_accuracy: 0.9084\n",
            "Epoch 10/50\n",
            "179/179 [==============================] - ETA: 0s - loss: 0.0937 - accuracy: 0.9706\n",
            "Epoch 10: val_accuracy did not improve from 0.95307\n",
            "179/179 [==============================] - 93s 519ms/step - loss: 0.0937 - accuracy: 0.9706 - val_loss: 0.1746 - val_accuracy: 0.9387\n",
            "Epoch 11/50\n",
            "179/179 [==============================] - ETA: 0s - loss: 0.1044 - accuracy: 0.9610\n",
            "Epoch 11: val_accuracy did not improve from 0.95307\n",
            "179/179 [==============================] - 91s 511ms/step - loss: 0.1044 - accuracy: 0.9610 - val_loss: 0.2360 - val_accuracy: 0.9114\n",
            "Epoch 12/50\n",
            "179/179 [==============================] - ETA: 0s - loss: 0.0818 - accuracy: 0.9704\n",
            "Epoch 12: val_accuracy improved from 0.95307 to 0.96366, saving model to /content/drive/MyDrive/Dataset/brain_tumors/brain.h5\n",
            "179/179 [==============================] - 95s 530ms/step - loss: 0.0818 - accuracy: 0.9704 - val_loss: 0.1027 - val_accuracy: 0.9637\n",
            "Epoch 13/50\n",
            "179/179 [==============================] - ETA: 0s - loss: 0.0718 - accuracy: 0.9760\n",
            "Epoch 13: val_accuracy did not improve from 0.96366\n",
            "179/179 [==============================] - 94s 526ms/step - loss: 0.0718 - accuracy: 0.9760 - val_loss: 0.1148 - val_accuracy: 0.9599\n",
            "Epoch 14/50\n",
            "179/179 [==============================] - ETA: 0s - loss: 0.0678 - accuracy: 0.9757\n",
            "Epoch 14: val_accuracy did not improve from 0.96366\n",
            "179/179 [==============================] - 99s 552ms/step - loss: 0.0678 - accuracy: 0.9757 - val_loss: 0.1892 - val_accuracy: 0.9410\n",
            "Epoch 15/50\n",
            "179/179 [==============================] - ETA: 0s - loss: 0.0731 - accuracy: 0.9723\n",
            "Epoch 15: val_accuracy did not improve from 0.96366\n",
            "179/179 [==============================] - 93s 519ms/step - loss: 0.0731 - accuracy: 0.9723 - val_loss: 0.0957 - val_accuracy: 0.9637\n",
            "Epoch 16/50\n",
            "179/179 [==============================] - ETA: 0s - loss: 0.0568 - accuracy: 0.9807\n",
            "Epoch 16: val_accuracy did not improve from 0.96366\n",
            "179/179 [==============================] - 92s 517ms/step - loss: 0.0568 - accuracy: 0.9807 - val_loss: 0.1288 - val_accuracy: 0.9546\n",
            "Epoch 17/50\n",
            "179/179 [==============================] - ETA: 0s - loss: 0.0746 - accuracy: 0.9715\n",
            "Epoch 17: val_accuracy improved from 0.96366 to 0.96593, saving model to /content/drive/MyDrive/Dataset/brain_tumors/brain.h5\n",
            "179/179 [==============================] - 94s 524ms/step - loss: 0.0746 - accuracy: 0.9715 - val_loss: 0.1167 - val_accuracy: 0.9659\n",
            "Epoch 18/50\n",
            "179/179 [==============================] - ETA: 0s - loss: 0.0875 - accuracy: 0.9687\n",
            "Epoch 18: val_accuracy did not improve from 0.96593\n",
            "179/179 [==============================] - 92s 516ms/step - loss: 0.0875 - accuracy: 0.9687 - val_loss: 0.1082 - val_accuracy: 0.9659\n",
            "Epoch 19/50\n",
            "179/179 [==============================] - ETA: 0s - loss: 0.0624 - accuracy: 0.9781\n",
            "Epoch 19: val_accuracy did not improve from 0.96593\n",
            "Restoring model weights from the end of the best epoch: 15.\n",
            "179/179 [==============================] - 92s 515ms/step - loss: 0.0624 - accuracy: 0.9781 - val_loss: 0.1333 - val_accuracy: 0.9508\n",
            "Epoch 19: early stopping\n"
          ]
        }
      ]
    },
    {
      "cell_type": "code",
      "source": [
        "model.save(\"vgg16.h5\")"
      ],
      "metadata": {
        "id": "2VlPGBM6IH5i"
      },
      "execution_count": 39,
      "outputs": []
    },
    {
      "cell_type": "code",
      "source": [
        "import matplotlib.pyplot as plt"
      ],
      "metadata": {
        "id": "K8Qj1D8ZsLw7"
      },
      "execution_count": 40,
      "outputs": []
    },
    {
      "cell_type": "code",
      "source": [
        "# plot the accuracy\n",
        "plt.plot(r.history['accuracy'], label='train acc')\n",
        "plt.plot(r.history['val_accuracy'], label='val acc')\n",
        "plt.legend()\n",
        "plt.show()\n",
        "plt.savefig('AccVal_acc')"
      ],
      "metadata": {
        "id": "1alAqu3HsY3q",
        "colab": {
          "base_uri": "https://localhost:8080/",
          "height": 447
        },
        "outputId": "fcd5190a-a71c-4f3d-aeae-f7c11b410698"
      },
      "execution_count": 41,
      "outputs": [
        {
          "output_type": "display_data",
          "data": {
            "text/plain": [
              "<Figure size 640x480 with 1 Axes>"
            ],
            "image/png": "[encoded data removed]"
          },
          "metadata": {}
        },
        {
          "output_type": "display_data",
          "data": {
            "text/plain": [
              "<Figure size 640x480 with 0 Axes>"
            ]
          },
          "metadata": {}
        }
      ]
    },
    {
      "cell_type": "code",
      "source": [
        "# plot the loss\n",
        "plt.plot(r.history['loss'], label='train loss')\n",
        "plt.plot(r.history['val_loss'], label='val loss')\n",
        "plt.legend()\n",
        "plt.show()\n",
        "plt.savefig('LossVal_loss')"
      ],
      "metadata": {
        "id": "8zDitLcWsY8l",
        "colab": {
          "base_uri": "https://localhost:8080/",
          "height": 447
        },
        "outputId": "d2d3f186-d062-4d62-8fa6-9535bc7fb8cc"
      },
      "execution_count": 42,
      "outputs": [
        {
          "output_type": "display_data",
          "data": {
            "text/plain": [
              "<Figure size 640x480 with 1 Axes>"
            ],
            "image/png": "[encoded data removed]"
          },
          "metadata": {}
        },
        {
          "output_type": "display_data",
          "data": {
            "text/plain": [
              "<Figure size 640x480 with 0 Axes>"
            ]
          },
          "metadata": {}
        }
      ]
    },
    {
      "cell_type": "code",
      "source": [
        "model.save(\"VGG16.h5\")"
      ],
      "metadata": {
        "id": "fkDgJLJzseKE"
      },
      "execution_count": 43,
      "outputs": []
    }
  ]
}